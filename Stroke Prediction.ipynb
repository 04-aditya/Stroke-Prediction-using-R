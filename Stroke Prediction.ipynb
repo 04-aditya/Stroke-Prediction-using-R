{
 "cells": [
  {
   "cell_type": "markdown",
   "metadata": {},
   "source": [
    "# TYCS - C1 - SD Project 2 - Analysis & Predictions on Occurrences of Strokes - A Case Study on Medical Records\n",
    "\n",
    "### --------------------------------------------------------------------------------------------------------------------------------------------------------------\n",
    "\n",
    "   ###### Aditi Goyal - PRN: 18070122003\n",
    "   ###### Aditya Banerjee - PRN: 18070122004\n",
    "   ###### Aditya Kumar - PRN: 18070122005\n",
    "   ###### Aniket Mulik - PRN: 18070122008"
   ]
  },
  {
   "cell_type": "markdown",
   "metadata": {},
   "source": [
    "### Loading Libraries and Dataset"
   ]
  },
  {
   "cell_type": "code",
   "execution_count": 168,
   "metadata": {},
   "outputs": [],
   "source": [
    "library(corrplot)\n",
    "library(dplyr)\n",
    "library(bestglm)\n",
    "library(ROCR)"
   ]
  },
  {
   "cell_type": "code",
   "execution_count": 169,
   "metadata": {},
   "outputs": [
    {
     "data": {
      "text/html": [
       "<table>\n",
       "<thead><tr><th scope=col>id</th><th scope=col>gender</th><th scope=col>age</th><th scope=col>hypertension</th><th scope=col>heart_disease</th><th scope=col>ever_married</th><th scope=col>work_type</th><th scope=col>Residence_type</th><th scope=col>avg_glucose_level</th><th scope=col>bmi</th><th scope=col>smoking_status</th><th scope=col>stroke</th></tr></thead>\n",
       "<tbody>\n",
       "\t<tr><td> 9046          </td><td>Male           </td><td>67             </td><td>0              </td><td>1              </td><td>Yes            </td><td>Private        </td><td>Urban          </td><td>228.69         </td><td>36.6           </td><td>formerly smoked</td><td>1              </td></tr>\n",
       "\t<tr><td>51676          </td><td>Female         </td><td>61             </td><td>0              </td><td>0              </td><td>Yes            </td><td>Self-employed  </td><td>Rural          </td><td>202.21         </td><td>  NA           </td><td>never smoked   </td><td>1              </td></tr>\n",
       "\t<tr><td>31112          </td><td>Male           </td><td>80             </td><td>0              </td><td>1              </td><td>Yes            </td><td>Private        </td><td>Rural          </td><td>105.92         </td><td>32.5           </td><td>never smoked   </td><td>1              </td></tr>\n",
       "\t<tr><td>60182          </td><td>Female         </td><td>49             </td><td>0              </td><td>0              </td><td>Yes            </td><td>Private        </td><td>Urban          </td><td>171.23         </td><td>34.4           </td><td>smokes         </td><td>1              </td></tr>\n",
       "\t<tr><td> 1665          </td><td>Female         </td><td>79             </td><td>1              </td><td>0              </td><td>Yes            </td><td>Self-employed  </td><td>Rural          </td><td>174.12         </td><td>24.0           </td><td>never smoked   </td><td>1              </td></tr>\n",
       "\t<tr><td>56669          </td><td>Male           </td><td>81             </td><td>0              </td><td>0              </td><td>Yes            </td><td>Private        </td><td>Urban          </td><td>186.21         </td><td>29.0           </td><td>formerly smoked</td><td>1              </td></tr>\n",
       "\t<tr><td>53882          </td><td>Male           </td><td>74             </td><td>1              </td><td>1              </td><td>Yes            </td><td>Private        </td><td>Rural          </td><td> 70.09         </td><td>27.4           </td><td>never smoked   </td><td>1              </td></tr>\n",
       "\t<tr><td>10434          </td><td>Female         </td><td>69             </td><td>0              </td><td>0              </td><td>No             </td><td>Private        </td><td>Urban          </td><td> 94.39         </td><td>22.8           </td><td>never smoked   </td><td>1              </td></tr>\n",
       "\t<tr><td>27419          </td><td>Female         </td><td>59             </td><td>0              </td><td>0              </td><td>Yes            </td><td>Private        </td><td>Rural          </td><td> 76.15         </td><td>  NA           </td><td>Unknown        </td><td>1              </td></tr>\n",
       "\t<tr><td>60491          </td><td>Female         </td><td>78             </td><td>0              </td><td>0              </td><td>Yes            </td><td>Private        </td><td>Urban          </td><td> 58.57         </td><td>24.2           </td><td>Unknown        </td><td>1              </td></tr>\n",
       "</tbody>\n",
       "</table>\n"
      ],
      "text/latex": [
       "\\begin{tabular}{r|llllllllllll}\n",
       " id & gender & age & hypertension & heart\\_disease & ever\\_married & work\\_type & Residence\\_type & avg\\_glucose\\_level & bmi & smoking\\_status & stroke\\\\\n",
       "\\hline\n",
       "\t  9046           & Male            & 67              & 0               & 1               & Yes             & Private         & Urban           & 228.69          & 36.6            & formerly smoked & 1              \\\\\n",
       "\t 51676           & Female          & 61              & 0               & 0               & Yes             & Self-employed   & Rural           & 202.21          &   NA            & never smoked    & 1              \\\\\n",
       "\t 31112           & Male            & 80              & 0               & 1               & Yes             & Private         & Rural           & 105.92          & 32.5            & never smoked    & 1              \\\\\n",
       "\t 60182           & Female          & 49              & 0               & 0               & Yes             & Private         & Urban           & 171.23          & 34.4            & smokes          & 1              \\\\\n",
       "\t  1665           & Female          & 79              & 1               & 0               & Yes             & Self-employed   & Rural           & 174.12          & 24.0            & never smoked    & 1              \\\\\n",
       "\t 56669           & Male            & 81              & 0               & 0               & Yes             & Private         & Urban           & 186.21          & 29.0            & formerly smoked & 1              \\\\\n",
       "\t 53882           & Male            & 74              & 1               & 1               & Yes             & Private         & Rural           &  70.09          & 27.4            & never smoked    & 1              \\\\\n",
       "\t 10434           & Female          & 69              & 0               & 0               & No              & Private         & Urban           &  94.39          & 22.8            & never smoked    & 1              \\\\\n",
       "\t 27419           & Female          & 59              & 0               & 0               & Yes             & Private         & Rural           &  76.15          &   NA            & Unknown         & 1              \\\\\n",
       "\t 60491           & Female          & 78              & 0               & 0               & Yes             & Private         & Urban           &  58.57          & 24.2            & Unknown         & 1              \\\\\n",
       "\\end{tabular}\n"
      ],
      "text/markdown": [
       "\n",
       "| id | gender | age | hypertension | heart_disease | ever_married | work_type | Residence_type | avg_glucose_level | bmi | smoking_status | stroke |\n",
       "|---|---|---|---|---|---|---|---|---|---|---|---|\n",
       "|  9046           | Male            | 67              | 0               | 1               | Yes             | Private         | Urban           | 228.69          | 36.6            | formerly smoked | 1               |\n",
       "| 51676           | Female          | 61              | 0               | 0               | Yes             | Self-employed   | Rural           | 202.21          |   NA            | never smoked    | 1               |\n",
       "| 31112           | Male            | 80              | 0               | 1               | Yes             | Private         | Rural           | 105.92          | 32.5            | never smoked    | 1               |\n",
       "| 60182           | Female          | 49              | 0               | 0               | Yes             | Private         | Urban           | 171.23          | 34.4            | smokes          | 1               |\n",
       "|  1665           | Female          | 79              | 1               | 0               | Yes             | Self-employed   | Rural           | 174.12          | 24.0            | never smoked    | 1               |\n",
       "| 56669           | Male            | 81              | 0               | 0               | Yes             | Private         | Urban           | 186.21          | 29.0            | formerly smoked | 1               |\n",
       "| 53882           | Male            | 74              | 1               | 1               | Yes             | Private         | Rural           |  70.09          | 27.4            | never smoked    | 1               |\n",
       "| 10434           | Female          | 69              | 0               | 0               | No              | Private         | Urban           |  94.39          | 22.8            | never smoked    | 1               |\n",
       "| 27419           | Female          | 59              | 0               | 0               | Yes             | Private         | Rural           |  76.15          |   NA            | Unknown         | 1               |\n",
       "| 60491           | Female          | 78              | 0               | 0               | Yes             | Private         | Urban           |  58.57          | 24.2            | Unknown         | 1               |\n",
       "\n"
      ],
      "text/plain": [
       "   id    gender age hypertension heart_disease ever_married work_type    \n",
       "1   9046 Male   67  0            1             Yes          Private      \n",
       "2  51676 Female 61  0            0             Yes          Self-employed\n",
       "3  31112 Male   80  0            1             Yes          Private      \n",
       "4  60182 Female 49  0            0             Yes          Private      \n",
       "5   1665 Female 79  1            0             Yes          Self-employed\n",
       "6  56669 Male   81  0            0             Yes          Private      \n",
       "7  53882 Male   74  1            1             Yes          Private      \n",
       "8  10434 Female 69  0            0             No           Private      \n",
       "9  27419 Female 59  0            0             Yes          Private      \n",
       "10 60491 Female 78  0            0             Yes          Private      \n",
       "   Residence_type avg_glucose_level bmi  smoking_status  stroke\n",
       "1  Urban          228.69            36.6 formerly smoked 1     \n",
       "2  Rural          202.21              NA never smoked    1     \n",
       "3  Rural          105.92            32.5 never smoked    1     \n",
       "4  Urban          171.23            34.4 smokes          1     \n",
       "5  Rural          174.12            24.0 never smoked    1     \n",
       "6  Urban          186.21            29.0 formerly smoked 1     \n",
       "7  Rural           70.09            27.4 never smoked    1     \n",
       "8  Urban           94.39            22.8 never smoked    1     \n",
       "9  Rural           76.15              NA Unknown         1     \n",
       "10 Urban           58.57            24.2 Unknown         1     "
      ]
     },
     "metadata": {},
     "output_type": "display_data"
    }
   ],
   "source": [
    "dataset = read.csv('healthcare-dataset-stroke-data.csv')\n",
    "head(dataset,10)"
   ]
  },
  {
   "cell_type": "markdown",
   "metadata": {},
   "source": [
    "### Dataset Analysis and Preprocessing"
   ]
  },
  {
   "cell_type": "code",
   "execution_count": 170,
   "metadata": {},
   "outputs": [
    {
     "data": {
      "text/plain": [
       "       id           gender          age         hypertension    \n",
       " Min.   :   67   Female:2994   Min.   : 0.08   Min.   :0.00000  \n",
       " 1st Qu.:17741   Male  :2115   1st Qu.:25.00   1st Qu.:0.00000  \n",
       " Median :36932   Other :   1   Median :45.00   Median :0.00000  \n",
       " Mean   :36518                 Mean   :43.23   Mean   :0.09746  \n",
       " 3rd Qu.:54682                 3rd Qu.:61.00   3rd Qu.:0.00000  \n",
       " Max.   :72940                 Max.   :82.00   Max.   :1.00000  \n",
       "                                                                \n",
       " heart_disease     ever_married         work_type    Residence_type\n",
       " Min.   :0.00000   No :1757     children     : 687   Rural:2514    \n",
       " 1st Qu.:0.00000   Yes:3353     Govt_job     : 657   Urban:2596    \n",
       " Median :0.00000                Never_worked :  22                 \n",
       " Mean   :0.05401                Private      :2925                 \n",
       " 3rd Qu.:0.00000                Self-employed: 819                 \n",
       " Max.   :1.00000                                                   \n",
       "                                                                   \n",
       " avg_glucose_level      bmi                smoking_status     stroke       \n",
       " Min.   : 55.12    Min.   :10.30   formerly smoked: 885   Min.   :0.00000  \n",
       " 1st Qu.: 77.25    1st Qu.:23.50   never smoked   :1892   1st Qu.:0.00000  \n",
       " Median : 91.89    Median :28.10   smokes         : 789   Median :0.00000  \n",
       " Mean   :106.15    Mean   :28.89   Unknown        :1544   Mean   :0.04873  \n",
       " 3rd Qu.:114.09    3rd Qu.:33.10                          3rd Qu.:0.00000  \n",
       " Max.   :271.74    Max.   :97.60                          Max.   :1.00000  \n",
       "                   NA's   :201                                             "
      ]
     },
     "metadata": {},
     "output_type": "display_data"
    }
   ],
   "source": [
    "summary(dataset)"
   ]
  },
  {
   "cell_type": "code",
   "execution_count": 171,
   "metadata": {},
   "outputs": [
    {
     "data": {
      "text/html": [
       "'bmi'"
      ],
      "text/latex": [
       "'bmi'"
      ],
      "text/markdown": [
       "'bmi'"
      ],
      "text/plain": [
       "[1] \"bmi\""
      ]
     },
     "metadata": {},
     "output_type": "display_data"
    },
    {
     "data": {
      "text/html": [],
      "text/latex": [],
      "text/markdown": [],
      "text/plain": [
       "character(0)"
      ]
     },
     "metadata": {},
     "output_type": "display_data"
    },
    {
     "data": {
      "text/plain": [
       "       id           gender          age         hypertension    \n",
       " Min.   :   67   Female:2994   Min.   : 0.08   Min.   :0.00000  \n",
       " 1st Qu.:17741   Male  :2115   1st Qu.:25.00   1st Qu.:0.00000  \n",
       " Median :36932   Other :   1   Median :45.00   Median :0.00000  \n",
       " Mean   :36518                 Mean   :43.23   Mean   :0.09746  \n",
       " 3rd Qu.:54682                 3rd Qu.:61.00   3rd Qu.:0.00000  \n",
       " Max.   :72940                 Max.   :82.00   Max.   :1.00000  \n",
       " heart_disease     ever_married         work_type    Residence_type\n",
       " Min.   :0.00000   No :1757     children     : 687   Rural:2514    \n",
       " 1st Qu.:0.00000   Yes:3353     Govt_job     : 657   Urban:2596    \n",
       " Median :0.00000                Never_worked :  22                 \n",
       " Mean   :0.05401                Private      :2925                 \n",
       " 3rd Qu.:0.00000                Self-employed: 819                 \n",
       " Max.   :1.00000                                                   \n",
       " avg_glucose_level      bmi                smoking_status     stroke       \n",
       " Min.   : 55.12    Min.   :10.30   formerly smoked: 885   Min.   :0.00000  \n",
       " 1st Qu.: 77.25    1st Qu.:23.80   never smoked   :1892   1st Qu.:0.00000  \n",
       " Median : 91.89    Median :28.40   smokes         : 789   Median :0.00000  \n",
       " Mean   :106.15    Mean   :28.89   Unknown        :1544   Mean   :0.04873  \n",
       " 3rd Qu.:114.09    3rd Qu.:32.80                          3rd Qu.:0.00000  \n",
       " Max.   :271.74    Max.   :97.60                          Max.   :1.00000  "
      ]
     },
     "metadata": {},
     "output_type": "display_data"
    }
   ],
   "source": [
    "colnames(dataset)[apply(dataset,2,anyNA)]\n",
    "dataset$bmi[is.na(dataset$bmi)]<-mean(dataset$bmi, na.rm = TRUE)\n",
    "colnames(dataset)[apply(dataset,2,anyNA)]\n",
    "summary(dataset)"
   ]
  },
  {
   "cell_type": "code",
   "execution_count": 172,
   "metadata": {},
   "outputs": [
    {
     "data": {
      "image/png": "[encoded data removed]",
      "text/plain": [
       "Plot with title \"Age VS Gender\""
      ]
     },
     "metadata": {},
     "output_type": "display_data"
    }
   ],
   "source": [
    "boxplot(age ~ gender, data = dataset, xlab = \"Age\",ylab = \"Gender\", main = \"Age VS Gender\",col='bisque')"
   ]
  },
  {
   "cell_type": "code",
   "execution_count": 173,
   "metadata": {},
   "outputs": [
    {
     "data": {
      "text/html": [
       "<ol class=list-inline>\n",
       "\t<li>'id'</li>\n",
       "\t<li>'gender'</li>\n",
       "\t<li>'age'</li>\n",
       "\t<li>'hypertension'</li>\n",
       "\t<li>'heart_disease'</li>\n",
       "\t<li>'ever_married'</li>\n",
       "\t<li>'work_type'</li>\n",
       "\t<li>'Residence_type'</li>\n",
       "\t<li>'avg_glucose_level'</li>\n",
       "\t<li>'bmi'</li>\n",
       "\t<li>'smoking_status'</li>\n",
       "\t<li>'stroke'</li>\n",
       "</ol>\n"
      ],
      "text/latex": [
       "\\begin{enumerate*}\n",
       "\\item 'id'\n",
       "\\item 'gender'\n",
       "\\item 'age'\n",
       "\\item 'hypertension'\n",
       "\\item 'heart\\_disease'\n",
       "\\item 'ever\\_married'\n",
       "\\item 'work\\_type'\n",
       "\\item 'Residence\\_type'\n",
       "\\item 'avg\\_glucose\\_level'\n",
       "\\item 'bmi'\n",
       "\\item 'smoking\\_status'\n",
       "\\item 'stroke'\n",
       "\\end{enumerate*}\n"
      ],
      "text/markdown": [
       "1. 'id'\n",
       "2. 'gender'\n",
       "3. 'age'\n",
       "4. 'hypertension'\n",
       "5. 'heart_disease'\n",
       "6. 'ever_married'\n",
       "7. 'work_type'\n",
       "8. 'Residence_type'\n",
       "9. 'avg_glucose_level'\n",
       "10. 'bmi'\n",
       "11. 'smoking_status'\n",
       "12. 'stroke'\n",
       "\n",
       "\n"
      ],
      "text/plain": [
       " [1] \"id\"                \"gender\"            \"age\"              \n",
       " [4] \"hypertension\"      \"heart_disease\"     \"ever_married\"     \n",
       " [7] \"work_type\"         \"Residence_type\"    \"avg_glucose_level\"\n",
       "[10] \"bmi\"               \"smoking_status\"    \"stroke\"           "
      ]
     },
     "metadata": {},
     "output_type": "display_data"
    }
   ],
   "source": [
    "columns = colnames(dataset)\n",
    "columns"
   ]
  },
  {
   "cell_type": "code",
   "execution_count": 174,
   "metadata": {},
   "outputs": [
    {
     "data": {
      "image/png": "[encoded data removed]",
      "text/plain": [
       "Plot with title \"\""
      ]
     },
     "metadata": {},
     "output_type": "display_data"
    }
   ],
   "source": [
    "dataset1<-dataset %>% select(columns)\n",
    "dataset1<-subset(dataset1, select = c(age,hypertension,heart_disease,avg_glucose_level,bmi,stroke))\n",
    "new_data<-as.matrix(dataset1)\n",
    "corrplot(cor(new_data),method=\"shade\",order=\"hclust\", diag=FALSE)"
   ]
  },
  {
   "cell_type": "code",
   "execution_count": 175,
   "metadata": {
    "scrolled": false
   },
   "outputs": [
    {
     "data": {
      "image/png": "[encoded data removed]",
      "text/plain": [
       "Plot with title \"Histogram of Age\""
      ]
     },
     "metadata": {},
     "output_type": "display_data"
    },
    {
     "data": {
      "image/png": "[encoded data removed]",
      "text/plain": [
       "Plot with title \"Histogram of Average Glucose Level\""
      ]
     },
     "metadata": {},
     "output_type": "display_data"
    },
    {
     "data": {
      "image/png": "[encoded data removed]",
      "text/plain": [
       "Plot with title \"Histogram of BMI\""
      ]
     },
     "metadata": {},
     "output_type": "display_data"
    }
   ],
   "source": [
    "hist(dataset$age,xlab = 'Age',col=\"purple\",main=\"Histogram of Age\")\n",
    "hist(dataset$avg_glucose_level,xlab = 'Glucose level',col=\"yellow\",main=\"Histogram of Average Glucose Level\")\n",
    "hist(dataset$bmi,xlab = 'BMI', col=\"lightgreen\",main=\"Histogram of BMI\")"
   ]
  },
  {
   "cell_type": "code",
   "execution_count": 176,
   "metadata": {},
   "outputs": [],
   "source": [
    "dataset[dataset$gender=='Other', ] <- NA\n",
    "dataset <- na.omit(dataset)\n",
    "\n",
    "data_scaled <- dataset\n",
    "data_scaled$avg_glucose_level <- scale(data_scaled$avg_glucose_level)\n",
    "data_scaled$bmi <- scale(data_scaled$bmi)"
   ]
  },
  {
   "cell_type": "code",
   "execution_count": 177,
   "metadata": {
    "scrolled": false
   },
   "outputs": [
    {
     "data": {
      "text/html": [
       "<table>\n",
       "<thead><tr><th scope=col>id</th><th scope=col>gender</th><th scope=col>age</th><th scope=col>hypertension</th><th scope=col>heart_disease</th><th scope=col>ever_married</th><th scope=col>work_type</th><th scope=col>Residence_type</th><th scope=col>avg_glucose_level</th><th scope=col>bmi</th><th scope=col>smoking_status</th><th scope=col>stroke</th></tr></thead>\n",
       "<tbody>\n",
       "\t<tr><td> 9046          </td><td>Male           </td><td>67             </td><td>0              </td><td>1              </td><td>Yes            </td><td>Private        </td><td>Urban          </td><td> 2.706185068   </td><td> 1.0009426867  </td><td>formerly smoked</td><td>1              </td></tr>\n",
       "\t<tr><td>51676          </td><td>Female         </td><td>61             </td><td>0              </td><td>0              </td><td>Yes            </td><td>Self-employed  </td><td>Rural          </td><td> 2.121444031   </td><td>-0.0001650951  </td><td>never smoked   </td><td>1              </td></tr>\n",
       "\t<tr><td>31112          </td><td>Male           </td><td>80             </td><td>0              </td><td>1              </td><td>Yes            </td><td>Private        </td><td>Rural          </td><td>-0.004866938   </td><td> 0.4683530822  </td><td>never smoked   </td><td>1              </td></tr>\n",
       "\t<tr><td>60182          </td><td>Female         </td><td>49             </td><td>0              </td><td>0              </td><td>Yes            </td><td>Private        </td><td>Urban          </td><td> 1.437332349   </td><td> 0.7151628989  </td><td>smokes         </td><td>1              </td></tr>\n",
       "\t<tr><td> 1665          </td><td>Female         </td><td>79             </td><td>1              </td><td>0              </td><td>Yes            </td><td>Self-employed  </td><td>Rural          </td><td> 1.501150385   </td><td>-0.6357960979  </td><td>never smoked   </td><td>1              </td></tr>\n",
       "\t<tr><td>56669          </td><td>Male           </td><td>81             </td><td>0              </td><td>0              </td><td>Yes            </td><td>Private        </td><td>Urban          </td><td> 1.768126184   </td><td> 0.0137034198  </td><td>formerly smoked</td><td>1              </td></tr>\n",
       "</tbody>\n",
       "</table>\n"
      ],
      "text/latex": [
       "\\begin{tabular}{r|llllllllllll}\n",
       " id & gender & age & hypertension & heart\\_disease & ever\\_married & work\\_type & Residence\\_type & avg\\_glucose\\_level & bmi & smoking\\_status & stroke\\\\\n",
       "\\hline\n",
       "\t  9046           & Male            & 67              & 0               & 1               & Yes             & Private         & Urban           &  2.706185068    &  1.0009426867   & formerly smoked & 1              \\\\\n",
       "\t 51676           & Female          & 61              & 0               & 0               & Yes             & Self-employed   & Rural           &  2.121444031    & -0.0001650951   & never smoked    & 1              \\\\\n",
       "\t 31112           & Male            & 80              & 0               & 1               & Yes             & Private         & Rural           & -0.004866938    &  0.4683530822   & never smoked    & 1              \\\\\n",
       "\t 60182           & Female          & 49              & 0               & 0               & Yes             & Private         & Urban           &  1.437332349    &  0.7151628989   & smokes          & 1              \\\\\n",
       "\t  1665           & Female          & 79              & 1               & 0               & Yes             & Self-employed   & Rural           &  1.501150385    & -0.6357960979   & never smoked    & 1              \\\\\n",
       "\t 56669           & Male            & 81              & 0               & 0               & Yes             & Private         & Urban           &  1.768126184    &  0.0137034198   & formerly smoked & 1              \\\\\n",
       "\\end{tabular}\n"
      ],
      "text/markdown": [
       "\n",
       "| id | gender | age | hypertension | heart_disease | ever_married | work_type | Residence_type | avg_glucose_level | bmi | smoking_status | stroke |\n",
       "|---|---|---|---|---|---|---|---|---|---|---|---|\n",
       "|  9046           | Male            | 67              | 0               | 1               | Yes             | Private         | Urban           |  2.706185068    |  1.0009426867   | formerly smoked | 1               |\n",
       "| 51676           | Female          | 61              | 0               | 0               | Yes             | Self-employed   | Rural           |  2.121444031    | -0.0001650951   | never smoked    | 1               |\n",
       "| 31112           | Male            | 80              | 0               | 1               | Yes             | Private         | Rural           | -0.004866938    |  0.4683530822   | never smoked    | 1               |\n",
       "| 60182           | Female          | 49              | 0               | 0               | Yes             | Private         | Urban           |  1.437332349    |  0.7151628989   | smokes          | 1               |\n",
       "|  1665           | Female          | 79              | 1               | 0               | Yes             | Self-employed   | Rural           |  1.501150385    | -0.6357960979   | never smoked    | 1               |\n",
       "| 56669           | Male            | 81              | 0               | 0               | Yes             | Private         | Urban           |  1.768126184    |  0.0137034198   | formerly smoked | 1               |\n",
       "\n"
      ],
      "text/plain": [
       "  id    gender age hypertension heart_disease ever_married work_type    \n",
       "1  9046 Male   67  0            1             Yes          Private      \n",
       "2 51676 Female 61  0            0             Yes          Self-employed\n",
       "3 31112 Male   80  0            1             Yes          Private      \n",
       "4 60182 Female 49  0            0             Yes          Private      \n",
       "5  1665 Female 79  1            0             Yes          Self-employed\n",
       "6 56669 Male   81  0            0             Yes          Private      \n",
       "  Residence_type avg_glucose_level bmi           smoking_status  stroke\n",
       "1 Urban           2.706185068       1.0009426867 formerly smoked 1     \n",
       "2 Rural           2.121444031      -0.0001650951 never smoked    1     \n",
       "3 Rural          -0.004866938       0.4683530822 never smoked    1     \n",
       "4 Urban           1.437332349       0.7151628989 smokes          1     \n",
       "5 Rural           1.501150385      -0.6357960979 never smoked    1     \n",
       "6 Urban           1.768126184       0.0137034198 formerly smoked 1     "
      ]
     },
     "metadata": {},
     "output_type": "display_data"
    }
   ],
   "source": [
    "N <- nrow(data_scaled)\n",
    "train <- sample(1:N, size = 0.70*N)\n",
    "val <- sample(setdiff(1:N, train), size = 0.15*N )\n",
    "test <- setdiff(1:N, union(train, val))\n",
    "\n",
    "moddata <- data_scaled[,1:11]\n",
    "\n",
    "head(data_scaled)"
   ]
  },
  {
   "cell_type": "code",
   "execution_count": 178,
   "metadata": {
    "scrolled": false
   },
   "outputs": [
    {
     "data": {
      "text/plain": [
       "\n",
       "Call:\n",
       "glm(formula = stroke ~ ., family = \"binomial\", data = data_scaled[train, \n",
       "    ])\n",
       "\n",
       "Deviance Residuals: \n",
       "    Min       1Q   Median       3Q      Max  \n",
       "-1.1044  -0.3244  -0.1664  -0.0914   3.4789  \n",
       "\n",
       "Coefficients:\n",
       "                             Estimate Std. Error z value Pr(>|z|)    \n",
       "(Intercept)                -5.900e+00  7.745e-01  -7.617 2.59e-14 ***\n",
       "id                         -2.947e-06  3.821e-06  -0.771  0.44059    \n",
       "genderMale                  1.051e-01  1.666e-01   0.631  0.52818    \n",
       "age                         7.256e-02  6.972e-03  10.407  < 2e-16 ***\n",
       "hypertension                1.085e-01  2.039e-01   0.532  0.59469    \n",
       "heart_disease               4.259e-01  2.221e-01   1.917  0.05518 .  \n",
       "ever_marriedYes             1.119e-01  2.788e-01   0.401  0.68814    \n",
       "work_typeGovt_job          -1.610e+00  8.959e-01  -1.797  0.07235 .  \n",
       "work_typeNever_worked      -1.062e+01  3.746e+02  -0.028  0.97738    \n",
       "work_typePrivate           -1.300e+00  8.703e-01  -1.494  0.13525    \n",
       "work_typeSelf-employed     -1.535e+00  8.966e-01  -1.713  0.08680 .  \n",
       "Residence_typeUrban         1.189e-01  1.643e-01   0.724  0.46912    \n",
       "avg_glucose_level           2.054e-01  6.354e-02   3.232  0.00123 ** \n",
       "bmi                         1.141e-01  9.770e-02   1.167  0.24303    \n",
       "smoking_statusnever smoked -1.861e-01  2.057e-01  -0.905  0.36565    \n",
       "smoking_statussmokes        4.125e-03  2.621e-01   0.016  0.98744    \n",
       "smoking_statusUnknown       4.009e-03  2.448e-01   0.016  0.98694    \n",
       "---\n",
       "Signif. codes:  0 '***' 0.001 '**' 0.01 '*' 0.05 '.' 0.1 ' ' 1\n",
       "\n",
       "(Dispersion parameter for binomial family taken to be 1)\n",
       "\n",
       "    Null deviance: 1415.1  on 3575  degrees of freedom\n",
       "Residual deviance: 1127.0  on 3559  degrees of freedom\n",
       "AIC: 1161\n",
       "\n",
       "Number of Fisher Scoring iterations: 14\n"
      ]
     },
     "metadata": {},
     "output_type": "display_data"
    }
   ],
   "source": [
    "fitlog <- glm(stroke ~ ., data = data_scaled[train,],family = \"binomial\")\n",
    "summary(fitlog)"
   ]
  },
  {
   "cell_type": "code",
   "execution_count": 179,
   "metadata": {},
   "outputs": [],
   "source": [
    "logodd <- predict(fitlog)\n",
    "phat <- fitted(fitlog)"
   ]
  },
  {
   "cell_type": "code",
   "execution_count": 180,
   "metadata": {
    "scrolled": false
   },
   "outputs": [
    {
     "data": {
      "text/plain": [
       "            Predicted_value\n",
       "Actual_value FALSE TRUE\n",
       "           0  3392    6\n",
       "           1   172    6"
      ]
     },
     "metadata": {},
     "output_type": "display_data"
    },
    {
     "data": {
      "image/png": "[encoded data removed]",
      "text/plain": [
       "plot without title"
      ]
     },
     "metadata": {},
     "output_type": "display_data"
    }
   ],
   "source": [
    "conf_matrix = table(Actual_value = data_scaled$stroke[train], Predicted_value = logodd>-0.5)\n",
    "conf_matrix\n",
    "fourfoldplot(conf_matrix, color = c(\"magenta\", \"darkblue\"),conf.level = 0, margin = 1, main = \"Confusion Matrix\")"
   ]
  },
  {
   "cell_type": "code",
   "execution_count": 181,
   "metadata": {},
   "outputs": [
    {
     "data": {
      "text/html": [
       "0.953299776286353"
      ],
      "text/latex": [
       "0.953299776286353"
      ],
      "text/markdown": [
       "0.953299776286353"
      ],
      "text/plain": [
       "[1] 0.9532998"
      ]
     },
     "metadata": {},
     "output_type": "display_data"
    }
   ],
   "source": [
    "false_accuracy = 3409/(3409+167)\n",
    "false_accuracy"
   ]
  },
  {
   "cell_type": "code",
   "execution_count": 182,
   "metadata": {},
   "outputs": [
    {
     "data": {
      "image/png": "[encoded data removed]",
      "text/plain": [
       "Plot with title \"ROC\""
      ]
     },
     "metadata": {},
     "output_type": "display_data"
    }
   ],
   "source": [
    "predObj <- prediction(fitted(fitlog),data_scaled$stroke[train])\n",
    "pref <- performance(predObj,\"tpr\",\"fpr\")\n",
    "plot(pref,ylab=\"True Positive Rate- TPR\",xlab=\"False Positive Rate-FPR\", main=\"ROC\", col='blue')"
   ]
  },
  {
   "cell_type": "code",
   "execution_count": 183,
   "metadata": {},
   "outputs": [
    {
     "data": {
      "text/plain": [
       "An object of class \"performance\"\n",
       "Slot \"x.name\":\n",
       "[1] \"None\"\n",
       "\n",
       "Slot \"y.name\":\n",
       "[1] \"Area under the ROC curve\"\n",
       "\n",
       "Slot \"alpha.name\":\n",
       "[1] \"none\"\n",
       "\n",
       "Slot \"x.values\":\n",
       "list()\n",
       "\n",
       "Slot \"y.values\":\n",
       "[[1]]\n",
       "[1] 0.8433332\n",
       "\n",
       "\n",
       "Slot \"alpha.values\":\n",
       "list()\n"
      ]
     },
     "metadata": {},
     "output_type": "display_data"
    }
   ],
   "source": [
    "auc <- performance(predObj,\"auc\")\n",
    "auc"
   ]
  },
  {
   "cell_type": "markdown",
   "metadata": {},
   "source": [
    "### --------------------------------------------------------------------------------------------------------------------------------------------------------------"
   ]
  }
 ],
 "metadata": {
  "kernelspec": {
   "display_name": "R",
   "language": "R",
   "name": "ir"
  },
  "language_info": {
   "codemirror_mode": "r",
   "file_extension": ".r",
   "mimetype": "text/x-r-source",
   "name": "R",
   "pygments_lexer": "r",
   "version": "3.6.1"
  }
 },
 "nbformat": 4,
 "nbformat_minor": 4
}
